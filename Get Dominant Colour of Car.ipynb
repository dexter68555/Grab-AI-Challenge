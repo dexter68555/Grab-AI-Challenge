{
 "cells": [
  {
   "cell_type": "markdown",
   "metadata": {},
   "source": [
    "I will get the dominant colour of the car.\n",
    "\n",
    "The following code is to get the dominant colour of the image.\n",
    "The image will be crop to only left with bounding box.\n",
    "So, the remaining image will contain mostly car.\n",
    "Therefore, the dominant colour of the precessed image = dominant colour of the car.\n"
   ]
  },
  {
   "cell_type": "code",
   "execution_count": 1,
   "metadata": {
    "collapsed": true
   },
   "outputs": [],
   "source": [
    "import numpy as np\n",
    "import pandas as pd\n",
    "\n",
    "import cv2\n",
    "from sklearn.cluster import KMeans\n",
    "\n",
    "import webcolors\n",
    "from os import walk\n",
    "\n",
    "import os"
   ]
  },
  {
   "cell_type": "markdown",
   "metadata": {},
   "source": [
    "This is the get the closest colour name in words from the RGB code."
   ]
  },
  {
   "cell_type": "code",
   "execution_count": 2,
   "metadata": {
    "collapsed": true
   },
   "outputs": [],
   "source": [
    "'''\n",
    "Get closest colour name in words from the RGB code.\n",
    "'''\n",
    "def closest_colour(requested_colour):\n",
    "    min_colours = {}\n",
    "    for key, name in webcolors.css3_hex_to_names.items():\n",
    "        r_c, g_c, b_c = webcolors.hex_to_rgb(key)\n",
    "        rd = (r_c - requested_colour[0]) ** 2\n",
    "        gd = (g_c - requested_colour[1]) ** 2\n",
    "        bd = (b_c - requested_colour[2]) ** 2\n",
    "        min_colours[(rd + gd + bd)] = name\n",
    "    return min_colours[min(min_colours.keys())]\n",
    "\n",
    "def get_colour_name(requested_colour):\n",
    "    try:\n",
    "        closest_name = actual_name = webcolors.rgb_to_name(requested_colour)\n",
    "    except ValueError:\n",
    "        closest_name = closest_colour(requested_colour)\n",
    "        actual_name = None\n",
    "    return actual_name, closest_name"
   ]
  },
  {
   "cell_type": "code",
   "execution_count": 6,
   "metadata": {},
   "outputs": [
    {
     "name": "stdout",
     "output_type": "stream",
     "text": [
      "Done\n"
     ]
    }
   ],
   "source": [
    "'''\n",
    "This will get the dominant colour of the image which can be represented as the dominant colour of the car.\n",
    "'''\n",
    "\n",
    "mypath = \"color_test\"\n",
    "\n",
    "test_colour = []\n",
    "test_fname = []\n",
    "colour_code = []\n",
    "\n",
    "for (dirpath, dirnames, filenames) in walk(mypath):\n",
    "    for x in range(0, len(filenames)):\n",
    "        src_path = os.path.join(mypath, filenames[x])\n",
    "        image = cv2.imread(src_path)\n",
    "        image = cv2.cvtColor(image, cv2.COLOR_BGR2RGB)\n",
    "        \n",
    "        r, c = image.shape[:2]\n",
    "        out_r = 120\n",
    "        image = cv2.resize(image, (int(out_r*float(c)/r), out_r))\n",
    "        \n",
    "        pixels = image.reshape((-1, 3))\n",
    "        \n",
    "        km = KMeans(n_clusters=8)\n",
    "        km.fit(pixels)\n",
    "        \n",
    "        colors = np.asarray(km.cluster_centers_, dtype='uint8')\n",
    "        percentage = np.asarray(np.unique(km.labels_, return_counts = True)[1], dtype='float32')\n",
    "        percentage = percentage/pixels.shape[0]\n",
    "\n",
    "        max_percent = max(percentage)\n",
    "        max_element = np.where(percentage == max_percent)\n",
    "        \n",
    "        actual_name, closest_name = get_colour_name(colors[max_element[0][0]])\n",
    "        test_colour.append(closest_name)\n",
    "        test_fname.append(filenames[x])\n",
    "        colour_code.append(colors[max_element[0][0]])\n",
    "        \n",
    "    break\n",
    "    \n",
    "print(\"Done\")"
   ]
  },
  {
   "cell_type": "code",
   "execution_count": 7,
   "metadata": {
    "collapsed": true
   },
   "outputs": [],
   "source": [
    "'''\n",
    "This is the result of the dominant colour in words.\n",
    "'''\n",
    "submission = pd.DataFrame.from_dict({\n",
    "    'colour': test_colour,\n",
    "    'filename': test_fname\n",
    "})\n",
    "\n",
    "submission.to_csv('colour_test.csv', index=False)\n",
    "\n",
    "\n",
    "'''\n",
    "This is the result of the dominant colour in RGB code.\n",
    "'''\n",
    "submission2 = pd.DataFrame.from_dict({\n",
    "    'rgb_code': colour_code,\n",
    "    'filename': test_fname\n",
    "})\n",
    "\n",
    "submission2.to_csv('rgb_colour.csv', index=False)\n",
    "\n",
    "'''\n",
    "This code is tested with 30 images due to the limitation of the computer resources.\n",
    "'''"
   ]
  },
  {
   "cell_type": "code",
   "execution_count": null,
   "metadata": {
    "collapsed": true
   },
   "outputs": [],
   "source": []
  }
 ],
 "metadata": {
  "kernelspec": {
   "display_name": "Python 3",
   "language": "python",
   "name": "python3"
  },
  "language_info": {
   "codemirror_mode": {
    "name": "ipython",
    "version": 3
   },
   "file_extension": ".py",
   "mimetype": "text/x-python",
   "name": "python",
   "nbconvert_exporter": "python",
   "pygments_lexer": "ipython3",
   "version": "3.6.1"
  }
 },
 "nbformat": 4,
 "nbformat_minor": 2
}
