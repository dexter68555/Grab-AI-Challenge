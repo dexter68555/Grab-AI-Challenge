{
 "cells": [
  {
   "cell_type": "markdown",
   "metadata": {},
   "source": [
    "I start to pre-process the data.\n",
    "\n",
    "The data I have from the web site is training dataset, testing dataset and devkit zip file.\n",
    "All this 3 files is zip file.\n",
    "I will first unzip it.\n",
    "\n",
    "Then, I will create folder and sub-folder for both the training and testing datasets.\n",
    "After that, I will copy the image into respective folder.\n",
    "The reason to create sub-folder for the dataset because I used torchvision library to read the image.\n",
    "\n",
    "This library will automatic read the sub-folder name and assign all the image inside this sub-folder to be the same category with the sub-folder name as the label.\n",
    "The architecture of the folder create will be same as the following.\n",
    "\n",
    "/standford_car_training_dataset\n",
    "\n",
    "    /class 1\n",
    "\n",
    "        .\n",
    "\n",
    "        .\n",
    "\n",
    "        .\n",
    "\n",
    "    /class 196\n",
    "    \n",
    "/standford_car_testing_dataset\n",
    "\n",
    "    /class 1\n",
    "\n",
    "Testing dataset will only have 1 class because devkit does not provide any label for testing dataset.\n",
    "So I will just assign it as the same class.\n"
   ]
  },
  {
   "cell_type": "code",
   "execution_count": 1,
   "metadata": {
    "collapsed": true
   },
   "outputs": [],
   "source": [
    "import scipy.io\n",
    "import numpy as np\n",
    "import pandas as pd\n",
    "import os\n"
   ]
  },
  {
   "cell_type": "code",
   "execution_count": 2,
   "metadata": {
    "collapsed": true
   },
   "outputs": [],
   "source": [
    "car_meta = scipy.io.loadmat('devkit\\cars_meta')\n",
    "car_name = car_meta['class_names']\n",
    "car_name = np.transpose(car_name)"
   ]
  },
  {
   "cell_type": "code",
   "execution_count": 3,
   "metadata": {
    "collapsed": true
   },
   "outputs": [],
   "source": [
    "os.mkdir('train')"
   ]
  },
  {
   "cell_type": "code",
   "execution_count": 4,
   "metadata": {
    "collapsed": true
   },
   "outputs": [],
   "source": [
    "for x in range(0, len(car_name)):\n",
    "    #print(str(car_name[x][0][0]))\n",
    "    folder_name = str(car_name[x][0][0])\n",
    "    folder_name = folder_name.replace('\\'', '-')\n",
    "    folder_name = folder_name.replace('/', '-')\n",
    "    path = os.path.join('train', folder_name)\n",
    "    os.mkdir(path)"
   ]
  },
  {
   "cell_type": "code",
   "execution_count": 6,
   "metadata": {},
   "outputs": [],
   "source": [
    "os.mkdir('test')\n",
    "\n",
    "os.mkdir('test/test')"
   ]
  },
  {
   "cell_type": "code",
   "execution_count": 7,
   "metadata": {
    "collapsed": true
   },
   "outputs": [],
   "source": [
    "car_train = scipy.io.loadmat('devkit\\cars_train_annos')\n",
    "car_train2 = car_train['annotations']\n",
    "car_training = np.transpose(car_train2)\n"
   ]
  },
  {
   "cell_type": "code",
   "execution_count": 8,
   "metadata": {
    "collapsed": true
   },
   "outputs": [],
   "source": [
    "from os import walk\n",
    "from shutil import copyfile\n",
    "\n",
    "\n",
    "mypath = \"color_train\"\n",
    "dest = \"train\"\n",
    "\n",
    "\n",
    "for (dirpath, dirnames, filenames) in walk(mypath):\n",
    "    for x in range(0, len(filenames)):\n",
    "        src_path = os.path.join(dirpath, filenames[x])\n",
    "        folder_name = str(car_name[(car_training[x][0][4][0][0] - 1)][0][0])\n",
    "        folder_name = folder_name.replace('\\'', '-')\n",
    "        folder_name = folder_name.replace('/', '-')\n",
    "        dest_path = os.path.join(dest, folder_name)\n",
    "        dest_path = os.path.join(dest_path, filenames[x])\n",
    "        copyfile(src_path, dest_path)\n",
    "    break\n"
   ]
  },
  {
   "cell_type": "code",
   "execution_count": 9,
   "metadata": {
    "collapsed": true
   },
   "outputs": [],
   "source": [
    "\n",
    "test_path = \"color_test\"\n",
    "test_dest = \"test\"\n",
    "\n",
    "\n",
    "for (dirpath, dirnames, filenames) in walk(test_path):\n",
    "    for x in range(0, len(filenames)):\n",
    "        src_path = os.path.join(test_path, filenames[x])\n",
    "        dest_path = os.path.join(test_dest, filenames[x])\n",
    "        copyfile(src_path, dest_path)\n",
    "    break"
   ]
  },
  {
   "cell_type": "code",
   "execution_count": null,
   "metadata": {
    "collapsed": true
   },
   "outputs": [],
   "source": []
  }
 ],
 "metadata": {
  "kernelspec": {
   "display_name": "Python 3",
   "language": "python",
   "name": "python3"
  },
  "language_info": {
   "codemirror_mode": {
    "name": "ipython",
    "version": 3
   },
   "file_extension": ".py",
   "mimetype": "text/x-python",
   "name": "python",
   "nbconvert_exporter": "python",
   "pygments_lexer": "ipython3",
   "version": "3.6.1"
  }
 },
 "nbformat": 4,
 "nbformat_minor": 2
}
