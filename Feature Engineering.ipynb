{
 "cells": [
  {
   "cell_type": "markdown",
   "metadata": {},
   "source": [
    "Now I start to perform some feature engineering.\n",
    "\n",
    "From the standford car dataset web site, I can find the bounding box information from the devkit zip file.\n",
    "Using this bounding box, I can find out exactly where is the car from the image.\n",
    "By cropping out the bounding box from the image, I can remove all the unneccesarily noise from the image and allow the resnet model to focus only on the car.\n"
   ]
  },
  {
   "cell_type": "code",
   "execution_count": 3,
   "metadata": {
    "collapsed": true
   },
   "outputs": [],
   "source": [
    "import cv2 as cv\n",
    "import numpy as np\n",
    "import pandas as pd\n",
    "import scipy.io\n",
    "import os\n",
    "import shutil\n",
    "import random\n",
    "import tarfile\n"
   ]
  },
  {
   "cell_type": "code",
   "execution_count": 4,
   "metadata": {},
   "outputs": [
    {
     "name": "stdout",
     "output_type": "stream",
     "text": [
      "Extracted in Current Directory\n",
      "Extracted in Current Directory\n"
     ]
    }
   ],
   "source": [
    "def untar(fname):\n",
    "    if (fname.endswith(\"tgz\")):\n",
    "        tar = tarfile.open(fname)\n",
    "        tar.extractall()\n",
    "        tar.close()\n",
    "        print (\"Extracted in Current Directory\")\n",
    "    else:\n",
    "        print (\"Not a tgz file\")\n",
    "        \n",
    "train_path = \"cars_train.tgz\"\n",
    "\n",
    "untar(train_path)\n",
    "\n",
    "test_path = \"cars_test.tgz\"\n",
    "\n",
    "untar(test_path)"
   ]
  },
  {
   "cell_type": "code",
   "execution_count": 5,
   "metadata": {},
   "outputs": [
    {
     "name": "stdout",
     "output_type": "stream",
     "text": [
      "Extracted in Current Directory\n"
     ]
    }
   ],
   "source": [
    "meta_path = \"car_devkit.tgz\"\n",
    "\n",
    "untar(meta_path)"
   ]
  },
  {
   "cell_type": "code",
   "execution_count": 6,
   "metadata": {},
   "outputs": [
    {
     "name": "stdout",
     "output_type": "stream",
     "text": [
      "Processing train data...\n",
      "Done process train data.\n",
      "Processing test data...\n",
      "Done process test data.\n"
     ]
    }
   ],
   "source": [
    "def ensure_folder(folder):\n",
    "    if not os.path.exists(folder):\n",
    "        os.makedirs(folder)\n",
    "\n",
    "'''\n",
    "Save the training dataset after getting the bounding box image from original training dataset.\n",
    "'''\n",
    "def save_train_data(fnames, bboxes):\n",
    "    src_folder ='cars_train'\n",
    "    num_samples = len(fnames)\n",
    "\n",
    "\n",
    "\n",
    "    for i in range(num_samples):\n",
    "        fname = fnames[i]\n",
    "        (x1, y1, x2, y2) = bboxes[i]\n",
    "\n",
    "        src_path = os.path.join(src_folder, fname)\n",
    "        src_image = cv.imread(src_path)\n",
    "        height, width = src_image.shape[:2]\n",
    "        # margins of 16 pixels\n",
    "        margin = 16\n",
    "        x1 = max(0, x1 - margin)\n",
    "        y1 = max(0, y1 - margin)\n",
    "        x2 = min(x2 + margin, width)\n",
    "        y2 = min(y2 + margin, height)\n",
    "\n",
    "        dst_path = 'color_train'\n",
    "\n",
    "        if not os.path.exists(dst_path):\n",
    "            os.makedirs(dst_path)\n",
    "        dst_path = os.path.join(dst_path, fname)\n",
    "\n",
    "        crop_image = src_image[y1:y2, x1:x2]\n",
    "        dst_img = cv.resize(src=crop_image, dsize=(img_height, img_width))\n",
    "        cv.imwrite(dst_path, dst_img)\n",
    "\n",
    "'''\n",
    "Save the testing dataset after getting the bounding box image from original testing dataset.\n",
    "'''\n",
    "def save_test_data(fnames, bboxes):\n",
    "    src_folder = 'cars_test'\n",
    "    \n",
    "    num_samples = len(fnames)\n",
    "\n",
    "\n",
    "    for i in range(num_samples):\n",
    "        dst_path = 'color_test'\n",
    "        fname = fnames[i]\n",
    "        (x1, y1, x2, y2) = bboxes[i]\n",
    "        src_path = os.path.join(src_folder, fname)\n",
    "        src_image = cv.imread(src_path)\n",
    "        height, width = src_image.shape[:2]\n",
    "        # margins of 16 pixels\n",
    "        margin = 16\n",
    "        x1 = max(0, x1 - margin)\n",
    "        y1 = max(0, y1 - margin)\n",
    "        x2 = min(x2 + margin, width)\n",
    "        y2 = min(y2 + margin, height)\n",
    "        \n",
    "        dst_path = os.path.join(dst_path, fname)\n",
    "\n",
    "        crop_image = src_image[y1:y2, x1:x2]\n",
    "        dst_img = cv.resize(src=crop_image, dsize=(img_height, img_width))\n",
    "        cv.imwrite(dst_path, dst_img)\n",
    "\n",
    "'''\n",
    "Getting the bounding box information for training dataset from devkit zip file.\n",
    "After that, call save_train_data to extract the bounding box.\n",
    "'''\n",
    "def process_train_data():\n",
    "    print(\"Processing train data...\")\n",
    "    cars_annos = scipy.io.loadmat('devkit\\cars_train_annos')\n",
    "    annotations = cars_annos['annotations']\n",
    "    annotations = np.transpose(annotations)\n",
    "\n",
    "    fnames = []\n",
    "    class_ids = []\n",
    "    bboxes = []\n",
    "    labels = []\n",
    "\n",
    "    for annotation in annotations:\n",
    "        bbox_x1 = annotation[0][0][0][0]\n",
    "        bbox_y1 = annotation[0][1][0][0]\n",
    "        bbox_x2 = annotation[0][2][0][0]\n",
    "        bbox_y2 = annotation[0][3][0][0]\n",
    "        \n",
    "        fname = annotation[0][5][0]\n",
    "        bboxes.append((bbox_x1, bbox_y1, bbox_x2, bbox_y2))\n",
    "        fnames.append(fname)\n",
    "\n",
    "\n",
    "    save_train_data(fnames, bboxes)\n",
    "    print(\"Done process train data.\")\n",
    "    \n",
    "'''\n",
    "Getting the bounding box information for testing dataset from devkit zip file.\n",
    "After that, call save_test_data to extract the bounding box.\n",
    "'''\n",
    "def process_test_data():\n",
    "    print(\"Processing test data...\")\n",
    "    cars_annos = scipy.io.loadmat('devkit\\cars_test_annos')\n",
    "    annotations = cars_annos['annotations']\n",
    "    annotations = np.transpose(annotations)\n",
    "\n",
    "    fnames = []\n",
    "    bboxes = []\n",
    "\n",
    "    for annotation in annotations:\n",
    "        bbox_x1 = annotation[0][0][0][0]\n",
    "        bbox_y1 = annotation[0][1][0][0]\n",
    "        bbox_x2 = annotation[0][2][0][0]\n",
    "        bbox_y2 = annotation[0][3][0][0]\n",
    "        fname = annotation[0][4][0]\n",
    "        bboxes.append((bbox_x1, bbox_y1, bbox_x2, bbox_y2))\n",
    "        fnames.append(fname)\n",
    "\n",
    "    save_test_data(fnames, bboxes)\n",
    "    print(\"Done process test data.\")\n",
    "\n",
    "\n",
    "\n",
    "'''\n",
    "This is the output image width and height after getting the bounding box. \n",
    "'''\n",
    "img_width, img_height = 224, 224\n",
    "\n",
    "ensure_folder(\"color_train\")\n",
    "ensure_folder(\"color_test\")\n",
    "\n",
    "\n",
    "process_train_data()\n",
    "process_test_data()\n"
   ]
  },
  {
   "cell_type": "code",
   "execution_count": null,
   "metadata": {
    "collapsed": true
   },
   "outputs": [],
   "source": []
  }
 ],
 "metadata": {
  "kernelspec": {
   "display_name": "Python 3",
   "language": "python",
   "name": "python3"
  },
  "language_info": {
   "codemirror_mode": {
    "name": "ipython",
    "version": 3
   },
   "file_extension": ".py",
   "mimetype": "text/x-python",
   "name": "python",
   "nbconvert_exporter": "python",
   "pygments_lexer": "ipython3",
   "version": "3.6.1"
  }
 },
 "nbformat": 4,
 "nbformat_minor": 2
}
